{
 "cells": [
  {
   "cell_type": "code",
   "execution_count": null,
   "id": "984d6fe6",
   "metadata": {},
   "outputs": [
    {
     "name": "stdout",
     "output_type": "stream",
     "text": [
      "Defaulting to user installation because normal site-packages is not writeable\n",
      "Requirement already satisfied: basicsr in /home/zigron/.local/lib/python3.10/site-packages (1.4.2)\n",
      "Requirement already satisfied: Pillow in /home/zigron/.local/lib/python3.10/site-packages (from basicsr) (11.1.0)\n",
      "Requirement already satisfied: addict in /home/zigron/.local/lib/python3.10/site-packages (from basicsr) (2.4.0)\n",
      "Requirement already satisfied: future in /usr/lib/python3/dist-packages (from basicsr) (0.18.2)\n",
      "Requirement already satisfied: lmdb in /home/zigron/.local/lib/python3.10/site-packages (from basicsr) (1.6.2)\n",
      "Requirement already satisfied: numpy>=1.17 in /home/zigron/.local/lib/python3.10/site-packages (from basicsr) (1.26.4)\n",
      "Requirement already satisfied: opencv-python in /home/zigron/.local/lib/python3.10/site-packages (from basicsr) (4.11.0.86)\n",
      "Requirement already satisfied: pyyaml in /usr/lib/python3/dist-packages (from basicsr) (5.4.1)\n",
      "Requirement already satisfied: requests in /home/zigron/.local/lib/python3.10/site-packages (from basicsr) (2.32.3)\n",
      "Requirement already satisfied: scikit-image in /home/zigron/.local/lib/python3.10/site-packages (from basicsr) (0.25.1)\n",
      "Requirement already satisfied: scipy in /home/zigron/.local/lib/python3.10/site-packages (from basicsr) (1.15.1)\n",
      "Requirement already satisfied: tb-nightly in /home/zigron/.local/lib/python3.10/site-packages (from basicsr) (2.19.0a20250126)\n",
      "Requirement already satisfied: torch>=1.7 in /home/zigron/.local/lib/python3.10/site-packages (from basicsr) (2.5.1)\n",
      "Requirement already satisfied: torchvision in /home/zigron/.local/lib/python3.10/site-packages (from basicsr) (0.20.1)\n",
      "Requirement already satisfied: tqdm in /home/zigron/.local/lib/python3.10/site-packages (from basicsr) (4.67.1)\n",
      "Requirement already satisfied: yapf in /home/zigron/.local/lib/python3.10/site-packages (from basicsr) (0.43.0)\n",
      "Requirement already satisfied: filelock in /home/zigron/.local/lib/python3.10/site-packages (from torch>=1.7->basicsr) (3.16.1)\n",
      "Requirement already satisfied: typing-extensions>=4.8.0 in /home/zigron/.local/lib/python3.10/site-packages (from torch>=1.7->basicsr) (4.12.2)\n",
      "Requirement already satisfied: networkx in /home/zigron/.local/lib/python3.10/site-packages (from torch>=1.7->basicsr) (3.4.2)\n",
      "Requirement already satisfied: jinja2 in /usr/lib/python3/dist-packages (from torch>=1.7->basicsr) (3.0.3)\n",
      "Requirement already satisfied: fsspec in /home/zigron/.local/lib/python3.10/site-packages (from torch>=1.7->basicsr) (2024.9.0)\n",
      "Requirement already satisfied: nvidia-cuda-nvrtc-cu12==12.4.127 in /home/zigron/.local/lib/python3.10/site-packages (from torch>=1.7->basicsr) (12.4.127)\n",
      "Requirement already satisfied: nvidia-cuda-runtime-cu12==12.4.127 in /home/zigron/.local/lib/python3.10/site-packages (from torch>=1.7->basicsr) (12.4.127)\n",
      "Requirement already satisfied: nvidia-cuda-cupti-cu12==12.4.127 in /home/zigron/.local/lib/python3.10/site-packages (from torch>=1.7->basicsr) (12.4.127)\n",
      "Requirement already satisfied: nvidia-cudnn-cu12==9.1.0.70 in /home/zigron/.local/lib/python3.10/site-packages (from torch>=1.7->basicsr) (9.1.0.70)\n",
      "Requirement already satisfied: nvidia-cublas-cu12==12.4.5.8 in /home/zigron/.local/lib/python3.10/site-packages (from torch>=1.7->basicsr) (12.4.5.8)\n",
      "Requirement already satisfied: nvidia-cufft-cu12==11.2.1.3 in /home/zigron/.local/lib/python3.10/site-packages (from torch>=1.7->basicsr) (11.2.1.3)\n",
      "Requirement already satisfied: nvidia-curand-cu12==10.3.5.147 in /home/zigron/.local/lib/python3.10/site-packages (from torch>=1.7->basicsr) (10.3.5.147)\n",
      "Requirement already satisfied: nvidia-cusolver-cu12==11.6.1.9 in /home/zigron/.local/lib/python3.10/site-packages (from torch>=1.7->basicsr) (11.6.1.9)\n",
      "Requirement already satisfied: nvidia-cusparse-cu12==12.3.1.170 in /home/zigron/.local/lib/python3.10/site-packages (from torch>=1.7->basicsr) (12.3.1.170)\n",
      "Requirement already satisfied: nvidia-nccl-cu12==2.21.5 in /home/zigron/.local/lib/python3.10/site-packages (from torch>=1.7->basicsr) (2.21.5)\n",
      "Requirement already satisfied: nvidia-nvtx-cu12==12.4.127 in /home/zigron/.local/lib/python3.10/site-packages (from torch>=1.7->basicsr) (12.4.127)\n",
      "Requirement already satisfied: nvidia-nvjitlink-cu12==12.4.127 in /home/zigron/.local/lib/python3.10/site-packages (from torch>=1.7->basicsr) (12.4.127)\n",
      "Requirement already satisfied: triton==3.1.0 in /home/zigron/.local/lib/python3.10/site-packages (from torch>=1.7->basicsr) (3.1.0)\n",
      "Requirement already satisfied: sympy==1.13.1 in /home/zigron/.local/lib/python3.10/site-packages (from torch>=1.7->basicsr) (1.13.1)\n",
      "Requirement already satisfied: mpmath<1.4,>=1.1.0 in /home/zigron/.local/lib/python3.10/site-packages (from sympy==1.13.1->torch>=1.7->basicsr) (1.3.0)\n",
      "Requirement already satisfied: charset-normalizer<4,>=2 in /home/zigron/.local/lib/python3.10/site-packages (from requests->basicsr) (3.4.1)\n",
      "Requirement already satisfied: idna<4,>=2.5 in /usr/lib/python3/dist-packages (from requests->basicsr) (3.3)\n",
      "Requirement already satisfied: urllib3<3,>=1.21.1 in /usr/lib/python3/dist-packages (from requests->basicsr) (1.26.5)\n",
      "Requirement already satisfied: certifi>=2017.4.17 in /usr/lib/python3/dist-packages (from requests->basicsr) (2020.6.20)\n",
      "Requirement already satisfied: imageio!=2.35.0,>=2.33 in /home/zigron/.local/lib/python3.10/site-packages (from scikit-image->basicsr) (2.37.0)\n",
      "Requirement already satisfied: tifffile>=2022.8.12 in /home/zigron/.local/lib/python3.10/site-packages (from scikit-image->basicsr) (2025.1.10)\n",
      "Requirement already satisfied: packaging>=21 in /home/zigron/.local/lib/python3.10/site-packages (from scikit-image->basicsr) (24.2)\n",
      "Requirement already satisfied: lazy-loader>=0.4 in /home/zigron/.local/lib/python3.10/site-packages (from scikit-image->basicsr) (0.4)\n",
      "Requirement already satisfied: absl-py>=0.4 in /home/zigron/.local/lib/python3.10/site-packages (from tb-nightly->basicsr) (2.1.0)\n",
      "Requirement already satisfied: grpcio>=1.48.2 in /home/zigron/.local/lib/python3.10/site-packages (from tb-nightly->basicsr) (1.70.0)\n",
      "Requirement already satisfied: markdown>=2.6.8 in /home/zigron/.local/lib/python3.10/site-packages (from tb-nightly->basicsr) (3.7)\n",
      "Requirement already satisfied: protobuf!=4.24.0,>=3.19.6 in /home/zigron/.local/lib/python3.10/site-packages (from tb-nightly->basicsr) (5.29.3)\n",
      "Requirement already satisfied: setuptools>=41.0.0 in /usr/lib/python3/dist-packages (from tb-nightly->basicsr) (59.6.0)\n",
      "Requirement already satisfied: six>1.9 in /usr/lib/python3/dist-packages (from tb-nightly->basicsr) (1.16.0)\n",
      "Requirement already satisfied: tensorboard-data-server<0.8.0,>=0.7.0 in /home/zigron/.local/lib/python3.10/site-packages (from tb-nightly->basicsr) (0.7.2)\n",
      "Requirement already satisfied: werkzeug>=1.0.1 in /home/zigron/.local/lib/python3.10/site-packages (from tb-nightly->basicsr) (3.1.3)\n",
      "Requirement already satisfied: platformdirs>=3.5.1 in /home/zigron/.local/lib/python3.10/site-packages (from yapf->basicsr) (4.3.6)\n",
      "Requirement already satisfied: tomli>=2.0.1 in /home/zigron/.local/lib/python3.10/site-packages (from yapf->basicsr) (2.2.1)\n",
      "Requirement already satisfied: MarkupSafe>=2.1.1 in /home/zigron/.local/lib/python3.10/site-packages (from werkzeug>=1.0.1->tb-nightly->basicsr) (3.0.2)\n"
     ]
    }
   ],
   "source": [
    "# Install basicsr - https://github.com/xinntao/BasicSR\n",
    "# We use BasicSR for both training and inference\n",
    "!pip install basicsr\n",
    "# facexlib and gfpgan are for face enhancement\n",
    "!pip install facexlib\n",
    "!pip install gfpgan\n",
    "!pip install -r requirements.txt\n",
    "!python setup.py develop\n"
   ]
  },
  {
   "cell_type": "code",
   "execution_count": null,
   "id": "6eee112c",
   "metadata": {},
   "outputs": [],
   "source": []
  }
 ],
 "metadata": {
  "kernelspec": {
   "display_name": "Python 3 (ipykernel)",
   "language": "python",
   "name": "python3"
  },
  "language_info": {
   "codemirror_mode": {
    "name": "ipython",
    "version": 3
   },
   "file_extension": ".py",
   "mimetype": "text/x-python",
   "name": "python",
   "nbconvert_exporter": "python",
   "pygments_lexer": "ipython3",
   "version": "3.10.12"
  }
 },
 "nbformat": 4,
 "nbformat_minor": 5
}
