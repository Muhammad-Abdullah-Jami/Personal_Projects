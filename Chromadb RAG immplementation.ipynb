{
 "cells": [
  {
   "cell_type": "code",
   "execution_count": 6,
   "id": "816f7923",
   "metadata": {},
   "outputs": [],
   "source": [
    "#start with importing the required libraries \n",
    "import pandas as pd\n",
    "import openai as oi\n",
    "import chromadb, chardet\n",
    "from chromadb.utils import embedding_functions\n",
    "import os, json \n",
    "import requests, time\n",
    "import math\n",
    "from bs4 import BeautifulSoup\n",
    "from pathlib import Path\n",
    "from IPython.display import Image\n",
    "\n",
    "#creating global variables for further use \n",
    "OPENAI_API_KEY=\"Osk-proj-5nt0ci3VGElQptscSiYBiX0TcjZhXEG5b9qWQRwx69hBS-uOavsAzcvPlL0og4gpR4349p2unqT3BlbkFJw3GXjDT8fYWsw_l62e9W1ZTa2P9f6rR2d_eDVLjajCAfdHstj0ArKFZZ7haJYJMFBx88We--gA\"\n",
    "RESET_FILE_STATUS = -1\n",
    "deptID = 10\n",
    "deptName = \"Egyptian_Art\"\n",
    "query = \"egypt\"\n",
    "root_path = \"LOCAL_STORAGE_PATH\"+str(deptID)\n",
    "stride = 1000 "
   ]
  },
  {
   "cell_type": "code",
   "execution_count": 5,
   "id": "9d79b30d",
   "metadata": {},
   "outputs": [],
   "source": [
    "# pip install chromadb"
   ]
  },
  {
   "cell_type": "code",
   "execution_count": 11,
   "id": "9907bca3",
   "metadata": {},
   "outputs": [],
   "source": [
    "#method to format a clause to correct json parseable format \n",
    "def parseClause(value0):\n",
    "    return str(value).replace(\"[]\",\"\").replace(\"]\",\"\").replace(\"'\",\"\\\"\")"
   ]
  },
  {
   "cell_type": "code",
   "execution_count": 12,
   "id": "910761e4",
   "metadata": {},
   "outputs": [],
   "source": [
    "#call OpenAI text embedding \n",
    "def text_embedding(text):\n",
    "    openai_client = oi.OpenAI(api_key = OPENAI_API_KEY)\n",
    "    response = openai_client.embeddings.create(model=\"text-embedding-ada-002\", input=text)\n"
   ]
  },
  {
   "cell_type": "code",
   "execution_count": 14,
   "id": "a727231d",
   "metadata": {},
   "outputs": [
    {
     "ename": "SyntaxError",
     "evalue": "invalid syntax (877652387.py, line 6)",
     "output_type": "error",
     "traceback": [
      "\u001b[0;36m  File \u001b[0;32m\"/tmp/ipykernel_9787/877652387.py\"\u001b[0;36m, line \u001b[0;32m6\u001b[0m\n\u001b[0;31m    for line in file_Status=line.split(\u001b[0m\n\u001b[0m                           ^\u001b[0m\n\u001b[0;31mSyntaxError\u001b[0m\u001b[0;31m:\u001b[0m invalid syntax\n"
     ]
    }
   ],
   "source": [
    "#parse the file statuses as a data structure (dictionary) from the reference \n",
    "def parse_file_status():\n",
    "    file_status_file=open(root_path+\"/\"+deptName+\"_Ref.txt\",\"r\")\n",
    "    file_status_list = file_status_file.readlines()\n",
    "    status_dictionary={}\n",
    "    for line in file_Status=line.spaaf"
   ]
  },
  {
   "cell_type": "code",
   "execution_count": null,
   "id": "82207385",
   "metadata": {},
   "outputs": [],
   "source": [
    "#parse the file statuses as a data structure (dictionary) from the reference \n",
    "def parse_file_status(): \n",
    "    file_status_file = open(root_path+\"/\"+deptName+\"_Ref.txt\",\"r\")\n",
    "    file_status_list = file_status_file.readlines()\n",
    "    status_dictionary = {}\n",
    "    for line in file_status_list: \n",
    "        fileName, fileStatus = line.split(\",\")\n",
    "        cr_counter = getCounter(fileName)\n",
    "        status_dictionary[cr_counter] = int(fileStatus)\n",
    "    file_status_file.close()\n",
    "    return status_dictionary "
   ]
  }
 ],
 "metadata": {
  "kernelspec": {
   "display_name": "Python 3 (ipykernel)",
   "language": "python",
   "name": "python3"
  },
  "language_info": {
   "codemirror_mode": {
    "name": "ipython",
    "version": 3
   },
   "file_extension": ".py",
   "mimetype": "text/x-python",
   "name": "python",
   "nbconvert_exporter": "python",
   "pygments_lexer": "ipython3",
   "version": "3.10.12"
  }
 },
 "nbformat": 4,
 "nbformat_minor": 5
}
